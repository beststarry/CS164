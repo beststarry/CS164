{
 "cells": [
  {
   "cell_type": "code",
   "execution_count": 81,
   "metadata": {},
   "outputs": [
    {
     "data": {
      "text/plain": [
       "-0.35192856519789106"
      ]
     },
     "execution_count": 81,
     "metadata": {},
     "output_type": "execute_result"
    }
   ],
   "source": [
    "import cvxpy as cvx\n",
    "import numpy as np\n",
    "\n",
    "B = cvx.Variable(2,2)\n",
    "d = cvx.Variable(2,1)\n",
    "\n",
    "ai = np.array([[-1/3, 1], \n",
    "              [-1, 0], \n",
    "              [0, -1],\n",
    "              [1, 1]])\n",
    "\n",
    "\n",
    "\n",
    "bi = np.array([[1],\n",
    "               [0],\n",
    "               [0],\n",
    "               [3]])\n",
    "\n",
    "constraints = [B >> 0] # B is positive semidefinite\n",
    "for i in range(4):\n",
    "    constraints.append(cvx.norm(B * ai[i].T, 2) + ai[i] * d <= bi[i])\n",
    "\n",
    "    \n",
    "obj = cvx.Maximize(cvx.log_det(B))\n",
    "\n",
    "prob = cvx.Problem(obj, constraints)\n",
    "prob.solve(solver = 'CVXOPT')  \n"
   ]
  },
  {
   "cell_type": "code",
   "execution_count": 84,
   "metadata": {},
   "outputs": [
    {
     "data": {
      "text/plain": [
       "matrix([[115.01730198,  -5.28801542],\n",
       "        [ -5.28801542,  61.39308287]])"
      ]
     },
     "execution_count": 84,
     "metadata": {},
     "output_type": "execute_result"
    }
   ],
   "source": [
    "B.value*100"
   ]
  },
  {
   "cell_type": "code",
   "execution_count": 83,
   "metadata": {},
   "outputs": [
    {
     "data": {
      "text/plain": [
       "matrix([[1.15138799],\n",
       "        [0.616204  ]])"
      ]
     },
     "execution_count": 83,
     "metadata": {},
     "output_type": "execute_result"
    }
   ],
   "source": [
    "d.value"
   ]
  }
 ],
 "metadata": {
  "kernelspec": {
   "display_name": "Python 3",
   "language": "python",
   "name": "python3"
  },
  "language_info": {
   "codemirror_mode": {
    "name": "ipython",
    "version": 3
   },
   "file_extension": ".py",
   "mimetype": "text/x-python",
   "name": "python",
   "nbconvert_exporter": "python",
   "pygments_lexer": "ipython3",
   "version": "3.6.8"
  }
 },
 "nbformat": 4,
 "nbformat_minor": 2
}
