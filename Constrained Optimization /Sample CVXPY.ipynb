{
 "cells": [
  {
   "cell_type": "code",
   "execution_count": 5,
   "metadata": {},
   "outputs": [
    {
     "name": "stdout",
     "output_type": "stream",
     "text": [
      "maximize 40 * x + 30 * y\n",
      "subject to 0 <= x\n",
      "           0 <= y\n",
      "           x + y <= 240\n",
      "           2 * x + y <= 320\n"
     ]
    },
    {
     "data": {
      "text/plain": [
       "7999.999996286696"
      ]
     },
     "execution_count": 5,
     "metadata": {},
     "output_type": "execute_result"
    }
   ],
   "source": [
    "import cvxpy as cp\n",
    "\n",
    "x = cp.Variable(name=\"x\")\n",
    "y = cp.Variable(name=\"y\")\n",
    "profit = 40*x + 30*y\n",
    "constraints = [\n",
    "    x >= 0,\n",
    "    y >= 0,\n",
    "    x + y <= 240,\n",
    "    2*x + y <= 320\n",
    "]\n",
    "\n",
    "problem = cp.Problem(cp.Maximize(profit), constraints)\n",
    "print(problem)\n",
    "\n",
    "problem.solve()"
   ]
  }
 ],
 "metadata": {
  "kernelspec": {
   "display_name": "Python 3",
   "language": "python",
   "name": "python3"
  },
  "language_info": {
   "codemirror_mode": {
    "name": "ipython",
    "version": 3
   },
   "file_extension": ".py",
   "mimetype": "text/x-python",
   "name": "python",
   "nbconvert_exporter": "python",
   "pygments_lexer": "ipython3",
   "version": "3.6.8"
  }
 },
 "nbformat": 4,
 "nbformat_minor": 2
}
