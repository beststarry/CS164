{
 "cells": [
  {
   "cell_type": "markdown",
   "metadata": {},
   "source": [
    "## Constrained Optimization\n",
    "We are trying to find a line of the form $$y = \\theta_1 x + \\theta_2$$\n",
    "that best fits the data. We are all familiar with the least-squares best fit line, given as $$\\min_{\\Theta} ||Y - X \\Theta ||_2$$\n",
    "\n",
    "where $\\Theta = \\begin{bmatrix} \\theta_1 & \\theta_2 \\end{bmatrix}^T $ is the parameter vector, and $X$ and $Y$ are the parameter vectors given as\n",
    "$$ X := \\begin{bmatrix} x_1 & 1 \\\\ x_2 & 1  \\\\ \\vdots & \\vdots \\\\ x_N & 1 \\end{bmatrix} \\qquad Y := \\begin{bmatrix} y_1 \\\\ y_2 \\\\ \\vdots \\\\ y_N \\end{bmatrix}  $$\n",
    "\n",
    "However we attempt to solve linear regression for both the $l_1$ and $l_\\infty$ norms analytically, and then on a provided dataset. "
   ]
  },
  {
   "cell_type": "code",
   "execution_count": 14,
   "metadata": {},
   "outputs": [
    {
     "data": {
      "image/png": "[encoded data removed]",
      "text/plain": [
       "<Figure size 432x288 with 1 Axes>"
      ]
     },
     "metadata": {
      "needs_background": "light"
     },
     "output_type": "display_data"
    }
   ],
   "source": [
    "import numpy as np\n",
    "import cvxpy as cvx\n",
    "import matplotlib.pyplot as plt\n",
    "\n",
    "\n",
    "theta1_act, theta2_act = 2, 5 # parameter values\n",
    "N = 200 # Number of points in dataset\n",
    "mag = 30 # Noise magnitude\n",
    "\n",
    "# datapoints\n",
    "x = np.arange(0,N)\n",
    "y = theta1_act * x + theta2_act *np.ones([1,N]) + np.random.normal(0,mag,N)\n",
    "\n",
    "plt.figure()\n",
    "# Scatter plot of data\n",
    "plt.scatter(x,y)\n",
    "plt.show()"
   ]
  },
  {
   "cell_type": "code",
   "execution_count": 16,
   "metadata": {},
   "outputs": [
    {
     "data": {
      "text/plain": [
       "Variable(2, 1)"
      ]
     },
     "execution_count": 16,
     "metadata": {},
     "output_type": "execute_result"
    }
   ],
   "source": [
    "# Add your code here!\n",
    "\n",
    "# HINT: you will first want to declare a variable for the parameters of the line\n",
    "\n",
    "theta = cvx.Variable(2)\n",
    "\n",
    "# For the l_1 case, you will also need a vector of slack variables."
   ]
  }
 ],
 "metadata": {
  "kernelspec": {
   "display_name": "Python 3",
   "language": "python",
   "name": "python3"
  },
  "language_info": {
   "codemirror_mode": {
    "name": "ipython",
    "version": 3
   },
   "file_extension": ".py",
   "mimetype": "text/x-python",
   "name": "python",
   "nbconvert_exporter": "python",
   "pygments_lexer": "ipython3",
   "version": "3.6.8"
  }
 },
 "nbformat": 4,
 "nbformat_minor": 2
}
