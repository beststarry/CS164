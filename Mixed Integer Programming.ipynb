{
 "cells": [
  {
   "cell_type": "markdown",
   "metadata": {},
   "source": [
    "## Mixed-Integer Programming"
   ]
  },
  {
   "cell_type": "code",
   "execution_count": 6,
   "metadata": {},
   "outputs": [
    {
     "ename": "TypeError",
     "evalue": "extend() takes exactly one argument (0 given)",
     "output_type": "error",
     "traceback": [
      "\u001b[0;31m---------------------------------------------------------------------------\u001b[0m",
      "\u001b[0;31mTypeError\u001b[0m                                 Traceback (most recent call last)",
      "\u001b[0;32m<ipython-input-6-0a7931bd18f4>\u001b[0m in \u001b[0;36m<module>\u001b[0;34m\u001b[0m\n\u001b[1;32m     39\u001b[0m \u001b[0mcon\u001b[0m \u001b[0;34m=\u001b[0m \u001b[0;34m[\u001b[0m\u001b[0mX\u001b[0m\u001b[0;34m[\u001b[0m\u001b[0;34m:\u001b[0m\u001b[0;34m,\u001b[0m\u001b[0;36m0\u001b[0m\u001b[0;34m]\u001b[0m \u001b[0;34m==\u001b[0m \u001b[0mnp\u001b[0m\u001b[0;34m.\u001b[0m\u001b[0mmatrix\u001b[0m\u001b[0;34m(\u001b[0m\u001b[0;34m'0;0;0;0'\u001b[0m\u001b[0;34m)\u001b[0m\u001b[0;34m]\u001b[0m\u001b[0;34m\u001b[0m\u001b[0;34m\u001b[0m\u001b[0m\n\u001b[1;32m     40\u001b[0m \u001b[0;31m## Dynamics\u001b[0m\u001b[0;34m\u001b[0m\u001b[0;34m\u001b[0m\u001b[0;34m\u001b[0m\u001b[0m\n\u001b[0;32m---> 41\u001b[0;31m \u001b[0mcon\u001b[0m\u001b[0;34m.\u001b[0m\u001b[0mextend\u001b[0m\u001b[0;34m(\u001b[0m\u001b[0;34m)\u001b[0m\u001b[0;34m\u001b[0m\u001b[0;34m\u001b[0m\u001b[0m\n\u001b[0m\u001b[1;32m     42\u001b[0m \u001b[0;31m## Input constraints\u001b[0m\u001b[0;34m\u001b[0m\u001b[0;34m\u001b[0m\u001b[0;34m\u001b[0m\u001b[0m\n\u001b[1;32m     43\u001b[0m \u001b[0mcon\u001b[0m\u001b[0;34m.\u001b[0m\u001b[0mextend\u001b[0m\u001b[0;34m(\u001b[0m\u001b[0;34m)\u001b[0m\u001b[0;34m\u001b[0m\u001b[0;34m\u001b[0m\u001b[0m\n",
      "\u001b[0;31mTypeError\u001b[0m: extend() takes exactly one argument (0 given)"
     ]
    }
   ],
   "source": [
    "import cvxpy as cvx\n",
    "import numpy as np\n",
    "\n",
    "# Input constraints\n",
    "max_inp = 0.2\n",
    "\n",
    "# Steps\n",
    "N = 15 \n",
    "\n",
    "# Define the terminal state in half-space form\n",
    "targetLHS = np.matrix([[-1, 0],[0, -1],[1, 0],[0, 1]])\n",
    "targetRHS = np.matrix([-9.5,-9.5,10.5,10.5]).T\n",
    "\n",
    "#### Add in Matrix to extract the two position states here ####\n",
    "posMatrix = np.matrix('0,0,0,0;0,0,0,0')\n",
    "\n",
    "# Define the obstacle in half-space form\n",
    "obsLHS = targetLHS\n",
    "obsRHS = np.array([-3.5,-3.5,6.5,6.5])\n",
    "\n",
    "# Vertices of the obstacle\n",
    "obsVerts = np.asarray([[3.5,3.5,6.5,6.5,3.5],[3.5,6.5,6.5,3.5,3.5]])\n",
    "\n",
    "#### Define the system matrices (as matrix types so we can multiply) ####\n",
    "A = np.matrix(np.zeros((4,4)))\n",
    "B = np.matrix('0,0;0,0;0,0;0,0')\n",
    "\n",
    "# Define the decision variables\n",
    "X = cvx.Variable(4,N+1) # States\n",
    "U = cvx.Variable(2,N) # Inputs\n",
    "b = cvx.Bool(4,N) # Binary Variables\n",
    "\n",
    "#### Define the Big-M constraint here ####\n",
    "M = 0\n",
    "\n",
    "#### Define dynamic constraints here ####\n",
    "\n",
    "## Initial condition\n",
    "con = [X[:,0] == np.matrix('0;0;0;0')]  \n",
    "## Dynamics\n",
    "con.extend() \n",
    "## Input constraints\n",
    "con.extend() \n",
    "## obstacle avoidance\n",
    "con.extend() \n",
    "con.extend() \n",
    "## Terminal constraint \n",
    "con.extend()\n",
    "\n",
    "#### Define the objective (minimize 1-norm of input) ####\n",
    "obj = cvx.Minimize()\n",
    "\n",
    "# Solve the optimization problem\n",
    "prob = cvx.Problem(obj, con)\n",
    "prob.solve()"
   ]
  },
  {
   "cell_type": "code",
   "execution_count": 1,
   "metadata": {},
   "outputs": [
    {
     "ename": "NameError",
     "evalue": "name 'X' is not defined",
     "output_type": "error",
     "traceback": [
      "\u001b[0;31m---------------------------------------------------------------------------\u001b[0m",
      "\u001b[0;31mNameError\u001b[0m                                 Traceback (most recent call last)",
      "\u001b[0;32m<ipython-input-1-4301984acaa4>\u001b[0m in \u001b[0;36m<module>\u001b[0;34m\u001b[0m\n\u001b[1;32m      3\u001b[0m \u001b[0;34m\u001b[0m\u001b[0m\n\u001b[1;32m      4\u001b[0m \u001b[0;32mimport\u001b[0m \u001b[0mmatplotlib\u001b[0m\u001b[0;34m.\u001b[0m\u001b[0mpyplot\u001b[0m \u001b[0;32mas\u001b[0m \u001b[0mplt\u001b[0m\u001b[0;34m\u001b[0m\u001b[0;34m\u001b[0m\u001b[0m\n\u001b[0;32m----> 5\u001b[0;31m \u001b[0mx_vals\u001b[0m \u001b[0;34m=\u001b[0m \u001b[0mX\u001b[0m\u001b[0;34m.\u001b[0m\u001b[0mvalue\u001b[0m\u001b[0;34m.\u001b[0m\u001b[0mT\u001b[0m\u001b[0;34m\u001b[0m\u001b[0;34m\u001b[0m\u001b[0m\n\u001b[0m\u001b[1;32m      6\u001b[0m \u001b[0mu_vals\u001b[0m \u001b[0;34m=\u001b[0m \u001b[0mU\u001b[0m\u001b[0;34m.\u001b[0m\u001b[0mvalue\u001b[0m\u001b[0;34m.\u001b[0m\u001b[0mT\u001b[0m\u001b[0;34m\u001b[0m\u001b[0;34m\u001b[0m\u001b[0m\n\u001b[1;32m      7\u001b[0m \u001b[0mplt\u001b[0m\u001b[0;34m.\u001b[0m\u001b[0mfigure\u001b[0m\u001b[0;34m(\u001b[0m\u001b[0;34m)\u001b[0m\u001b[0;34m\u001b[0m\u001b[0;34m\u001b[0m\u001b[0m\n",
      "\u001b[0;31mNameError\u001b[0m: name 'X' is not defined"
     ]
    }
   ],
   "source": [
    "#### Plotting code ####\n",
    "## Your plots should look like the ones below if your code is correct.\n",
    "\n",
    "import matplotlib.pyplot as plt\n",
    "x_vals = X.value.T\n",
    "u_vals = U.value.T\n",
    "plt.figure()\n",
    "plt.plot(x_vals[:,0],x_vals[:,1],'*-')\n",
    "plt.fill(obsVerts[0,:],obsVerts[1,:],'r')\n",
    "plt.xlabel('$x$')\n",
    "plt.ylabel('$y$')\n",
    "plt.axis('scaled')\n",
    "plt.show()\n",
    "\n",
    "plt.figure()\n",
    "plt.plot(np.arange(0,N+1).T,x_vals[:,2],'-',label='$x$')\n",
    "plt.plot(np.arange(0,N+1).T,x_vals[:,3],'-',label='$y$')\n",
    "plt.xlabel('$k$'); plt.ylabel('velocities')\n",
    "plt.legend()\n",
    "plt.show()\n",
    "\n",
    "plt.figure()\n",
    "plt.plot(np.arange(0,N).T,u_vals[:,0],'-',label='$x$')\n",
    "plt.plot(np.arange(0,N).T,u_vals[:,1],'-',label='$y$')\n",
    "plt.xlabel('$k$'); plt.ylabel('inputs')\n",
    "plt.legend()\n",
    "plt.show()\n"
   ]
  }
 ],
 "metadata": {
  "kernelspec": {
   "display_name": "Python 3",
   "language": "python",
   "name": "python3"
  },
  "language_info": {
   "codemirror_mode": {
    "name": "ipython",
    "version": 3
   },
   "file_extension": ".py",
   "mimetype": "text/x-python",
   "name": "python",
   "nbconvert_exporter": "python",
   "pygments_lexer": "ipython3",
   "version": "3.6.8"
  }
 },
 "nbformat": 4,
 "nbformat_minor": 2
}
