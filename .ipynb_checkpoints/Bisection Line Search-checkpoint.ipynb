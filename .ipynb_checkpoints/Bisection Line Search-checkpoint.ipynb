{
 "cells": [
  {
   "cell_type": "markdown",
   "metadata": {},
   "source": [
    "## Bisection Line Search\n",
    "\n",
    "We attempt a solution at the following function $$f(x) = \\frac{1}{2} x^T Qx - c^T x + 10 $$\n",
    "\n",
    "where $$Q = \\begin{bmatrix} 20 & 5 \\\\ 5 & 2 \\end{bmatrix}$$ and $$c = \\begin{bmatrix} 14 \\\\ 6 \\end{bmatrix}$$\n"
   ]
  },
  {
   "cell_type": "code",
   "execution_count": 18,
   "metadata": {},
   "outputs": [
    {
     "data": {
      "text/plain": [
       "array([[ 1.        ,  1.        ,  6.        ],\n",
       "       [ 1.        ,  1.        ,  6.        ],\n",
       "       [ 0.46998429,  0.95181675,  3.06082148],\n",
       "       [ 0.34254995,  2.35357683,  1.82665644],\n",
       "       [ 0.11999723,  2.33334453,  1.30843605],\n",
       "       [ 0.06648733,  2.92194087,  1.0908365 ],\n",
       "       [-0.02696162,  2.91344529,  0.99946766],\n",
       "       [-0.0494313 ,  3.16059718,  0.96110205],\n",
       "       [-0.0886697 ,  3.1570298 ,  0.94499289],\n",
       "       [-0.09810538,  3.26080839,  0.93822876],\n",
       "       [-0.11458068,  3.2593104 ,  0.93538872],\n",
       "       [-0.11854628,  3.30289938,  0.93419599],\n",
       "       [-0.12546351,  3.30226981,  0.93369529],\n",
       "       [-0.12713513,  3.32058325,  0.93348494],\n",
       "       [-0.13003669,  3.32031865,  0.93339687],\n",
       "       [-0.13072447,  3.32795558,  0.93336017],\n",
       "       [-0.13194464,  3.32784514,  0.93334463],\n",
       "       [-0.13220044,  3.33094237,  0.93333834],\n",
       "       [-0.13271419,  3.33090002,  0.93333555],\n",
       "       [-0.13288036,  3.33226013,  0.93333411],\n",
       "       [-0.13305765,  3.33225444,  0.93333377],\n",
       "       [-0.13317996,  3.33305241,  0.93333343],\n",
       "       [-0.13323318,  3.33304585,  0.93333337],\n",
       "       [-0.13325128,  3.33304823,  0.93333336],\n",
       "       [-0.13330646,  3.33308918,  0.93333337],\n",
       "       [-0.1332846 ,  3.33310051,  0.93333335],\n",
       "       [-0.13326037,  3.33312892,  0.93333335],\n",
       "       [-0.1332608 ,  3.33312897,  0.93333335],\n",
       "       [-0.13327453,  3.33313044,  0.93333335],\n",
       "       [-0.13327469,  3.33313055,  0.93333335],\n",
       "       [-0.13327485,  3.33313067,  0.93333335],\n",
       "       [-0.13331489,  3.3331596 ,  0.93333335],\n",
       "       [-0.13331089,  3.33316164,  0.93333335],\n",
       "       [-0.13330761,  3.33316349,  0.93333335],\n",
       "       [-0.1332969 ,  3.33317025,  0.93333334],\n",
       "       [-0.13329552,  3.33317255,  0.93333334],\n",
       "       [-0.13329476,  3.33317467,  0.93333334],\n",
       "       [-0.13329467,  3.33317517,  0.93333334],\n",
       "       [-0.13329463,  3.33317542,  0.93333334],\n",
       "       [-0.1332867 ,  3.33323804,  0.93333334],\n",
       "       [-0.13328693,  3.33323802,  0.93333334],\n",
       "       [-0.13331584,  3.33323537,  0.93333334],\n",
       "       [-0.13331137,  3.33323884,  0.93333334]])"
      ]
     },
     "execution_count": 18,
     "metadata": {},
     "output_type": "execute_result"
    }
   ],
   "source": [
    "import numpy as np\n",
    "from scipy.optimize import approx_fprime\n",
    "from numpy.linalg import norm\n",
    "\n",
    "Q = np.array([[20, 5],[5, 2]])\n",
    "c = np.array([[14],[6]])\n",
    "\n",
    "\n",
    "def f(x):\n",
    "    return 0.5*x.T @ Q @ x - c.T @ x + 10\n",
    "\n",
    "def bisection(func, x0, maxiter = 10000):\n",
    "    eps = np.sqrt(np.finfo(float).eps)  \n",
    "    \n",
    "    iters = 0  \n",
    "    x = np.array(x0, dtype=float)\n",
    "    xs, fs, alphs = x, np.array([func(x)]), np.array([0])\n",
    "    \n",
    "    grad = np.ones_like(x)\n",
    "    \n",
    "    while norm(grad) > 1e-4 and iters <= maxiter:\n",
    "        grad = -approx_fprime(x, func, eps)\n",
    "        h = lambda a: func(x + a*grad)\n",
    "        \n",
    "        upper, lower = np.array([0.001]), 0\n",
    "        \n",
    "        while approx_fprime(upper, h, eps) <= 0:upper *= 2\n",
    "        while abs(approx_fprime(((upper + lower)/2), h, eps)) > 1e-6:\n",
    "            if approx_fprime((upper + lower)/2, h, eps) > 0: upper = (upper + lower)/2\n",
    "            else: lower = (upper + lower)/2\n",
    "        \n",
    "        xs = np.vstack((xs, x)); fs = np.vstack((fs, func(x))); alphs = np.vstack((alphs, (upper + lower) / 2))\n",
    "        \n",
    "        x += (upper + lower) / 2*grad\n",
    "        iters += 1\n",
    "    \n",
    "    return(xs, fs, alphs)\n",
    "             \n",
    "start = np.array([1,1])\n",
    "\n",
    "xs, fs, alphs = bisection(f, start)\n",
    "np.hstack((xs, fs))"
   ]
  }
 ],
 "metadata": {
  "kernelspec": {
   "display_name": "Python 3",
   "language": "python",
   "name": "python3"
  },
  "language_info": {
   "codemirror_mode": {
    "name": "ipython",
    "version": 3
   },
   "file_extension": ".py",
   "mimetype": "text/x-python",
   "name": "python",
   "nbconvert_exporter": "python",
   "pygments_lexer": "ipython3",
   "version": "3.6.8"
  }
 },
 "nbformat": 4,
 "nbformat_minor": 2
}
