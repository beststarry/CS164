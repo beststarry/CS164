{
 "cells": [
  {
   "cell_type": "markdown",
   "metadata": {},
   "source": [
    "## Bisection Line Search\n",
    "\n",
    "We attempt a solution at the following function $$f(x) = \\frac{1}{2} x^T Qx - c^T x + 10 $$\n",
    "\n",
    "where $$Q = \\begin{bmatrix} 20 & 5 \\\\ 5 & 2 \\end{bmatrix}$$ and $$c = \\begin{bmatrix} 14 \\\\ 6 \\end{bmatrix}$$\n"
   ]
  },
  {
   "cell_type": "code",
   "execution_count": 126,
   "metadata": {},
   "outputs": [
    {
     "data": {
      "text/plain": [
       "(array([-0.13333336,  3.33333323]), array([0.93333333]))"
      ]
     },
     "execution_count": 126,
     "metadata": {},
     "output_type": "execute_result"
    }
   ],
   "source": [
    "import numpy as np\n",
    "from scipy.optimize import approx_fprime\n",
    "\n",
    "\n",
    "def f(x):\n",
    "    return 0.5*x.T @ Q @ x - c.T @ x + 10\n",
    "\n",
    "def bisection(func, x0, maxiter = 10000):\n",
    "    eps = np.sqrt(np.finfo(float).eps)  \n",
    "    \n",
    "    iters = 0  # iterations\n",
    "    x = np.array(x0, dtype=float)\n",
    "    xs, fs, alphs = [x], [func(x)], [0]\n",
    "    \n",
    "    grad = np.ones_like(x)\n",
    "    \n",
    "    while (abs(sum(grad)) > 1e-6) and iters <= maxiter:\n",
    "        grad = -approx_fprime(x, func, eps)\n",
    "        h = lambda a: func(x + a*grad)\n",
    "        \n",
    "        upper, lower = np.array([0.001]), 0\n",
    "        \n",
    "        while approx_fprime(upper, h, eps) <= 0:upper *= 2\n",
    "        while abs(approx_fprime(((upper + lower)/2), h, eps)) > 1e-6:\n",
    "            if approx_fprime((upper + lower)/2, h, eps) > 0: upper = (upper + lower)/2\n",
    "            else: lower = (upper + lower)/2\n",
    "            \n",
    "        x += (upper + lower) / 2*grad\n",
    "        iters += 1\n",
    "        xs.append(x); fs.append(func(x)); alphs.append((upper + lower) / 2)\n",
    "    \n",
    "    return(xs, fs, alphs)\n",
    "             \n",
    "start = np.array([1,1])\n",
    "\n",
    "xs, fs, alphs = bisection(f, start)\n",
    "xs[-1], fs[-1]"
   ]
  }
 ],
 "metadata": {
  "kernelspec": {
   "display_name": "Python 3",
   "language": "python",
   "name": "python3"
  },
  "language_info": {
   "codemirror_mode": {
    "name": "ipython",
    "version": 3
   },
   "file_extension": ".py",
   "mimetype": "text/x-python",
   "name": "python",
   "nbconvert_exporter": "python",
   "pygments_lexer": "ipython3",
   "version": "3.6.8"
  }
 },
 "nbformat": 4,
 "nbformat_minor": 2
}
