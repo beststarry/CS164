{
 "cells": [
  {
   "cell_type": "markdown",
   "metadata": {},
   "source": [
    "## Branch and Bound Methods\n",
    "$$ \\text{maximize} \\ Z = 5x_1 + 4x_2$$\n"
   ]
  },
  {
   "cell_type": "code",
   "execution_count": 52,
   "metadata": {},
   "outputs": [
    {
     "name": "stdout",
     "output_type": "stream",
     "text": [
      "maximize 5 * x1 + 4 * x2\n",
      "subject to 3 * x1 + 4 * x2 <= 10\n",
      "           0 <= x1\n",
      "           0 <= x2\n",
      "Upper bound is 16.67, at x1 = 3.333333326749174, x2 = 3.951934089095033e-09\n",
      "Lower bound is 15, at x1 = 3, x2 = 0\n"
     ]
    }
   ],
   "source": [
    "import cvxpy as cp\n",
    "\n",
    "x1 = cp.Variable(name=\"x1\")\n",
    "x2 = cp.Variable(name=\"x2\")\n",
    "Z = 5*x1 + 4*x2\n",
    "constraints = [\n",
    "    3*x1 + 4*x2 <= 10,\n",
    "    x1 >= 0,\n",
    "    x2 >= 0\n",
    "]\n",
    "\n",
    "problem = cp.Problem(cp.Maximize(Z), constraints)\n",
    "print(problem)\n",
    "print(f\"Upper bound is {problem.solve():.2f}, at x1 = {x1.value}, x2 = {x2.value}\")\n",
    "print(f\"Lower bound is {(lambda x1, x2: 5*x1 + 4*x2)(floor(x1.value), floor(x2.value))}, at x1 = {floor(x1.value)}, x2 = {floor(x2.value)}\")"
   ]
  },
  {
   "cell_type": "code",
   "execution_count": 58,
   "metadata": {},
   "outputs": [
    {
     "name": "stdout",
     "output_type": "stream",
     "text": [
      "maximize 5 * x1 + 4 * x2\n",
      "subject to 3 * x1 + 4 * x2 <= 10\n",
      "           x1 <= 3\n",
      "           0 <= x2\n",
      "Upper bound is 16.00, at x1 = 3.00, x2 = 0.25\n",
      "Lower bound is 15, at x1 = 3, x2 = 0\n",
      "\n",
      "maximize 5 * x1 + 4 * x2\n",
      "subject to 3 * x1 + 4 * x2 <= 10\n",
      "           4 <= x1\n",
      "           0 <= x2\n",
      "Upper bound is inf, at x1 = None, x2 = None\n"
     ]
    },
    {
     "ename": "TypeError",
     "evalue": "must be real number, not NoneType",
     "output_type": "error",
     "traceback": [
      "\u001b[0;31m---------------------------------------------------------------------------\u001b[0m",
      "\u001b[0;31mTypeError\u001b[0m                                 Traceback (most recent call last)",
      "\u001b[0;32m<ipython-input-58-e11c1488057a>\u001b[0m in \u001b[0;36m<module>\u001b[0;34m\u001b[0m\n\u001b[1;32m     29\u001b[0m \u001b[0mprint\u001b[0m\u001b[0;34m(\u001b[0m\u001b[0mproblem\u001b[0m\u001b[0;34m)\u001b[0m\u001b[0;34m\u001b[0m\u001b[0;34m\u001b[0m\u001b[0m\n\u001b[1;32m     30\u001b[0m \u001b[0mprint\u001b[0m\u001b[0;34m(\u001b[0m\u001b[0;34mf\"Upper bound is {problem.solve():.2f}, at x1 = {x1.value}, x2 = {x2.value}\"\u001b[0m\u001b[0;34m)\u001b[0m\u001b[0;34m\u001b[0m\u001b[0;34m\u001b[0m\u001b[0m\n\u001b[0;32m---> 31\u001b[0;31m \u001b[0mprint\u001b[0m\u001b[0;34m(\u001b[0m\u001b[0;34mf\"Lower bound is {(lambda x1, x2: 5*x1 + 4*x2)(floor(x1.value), floor(x2.value))}, at x1 = {floor(x1.value)}, x2 = {floor(x2.value)}\"\u001b[0m\u001b[0;34m)\u001b[0m\u001b[0;34m\u001b[0m\u001b[0;34m\u001b[0m\u001b[0m\n\u001b[0m",
      "\u001b[0;31mTypeError\u001b[0m: must be real number, not NoneType"
     ]
    }
   ],
   "source": [
    "import cvxpy as cp\n",
    "\n",
    "x1 = cp.Variable(name=\"x1\")\n",
    "x2 = cp.Variable(name=\"x2\")\n",
    "Z = 5*x1 + 4*x2\n",
    "constraints = [\n",
    "    3*x1 + 4*x2 <= 10,\n",
    "    x1 <= 3,\n",
    "    x2 >= 0\n",
    "]\n",
    "\n",
    "problem = cp.Problem(cp.Maximize(Z), constraints)\n",
    "print(problem)\n",
    "print(f\"Upper bound is {problem.solve():.2f}, at x1 = {x1.value:.2f}, x2 = {x2.value:.2f}\")\n",
    "print(f\"Lower bound is {(lambda x1, x2: 5*x1 + 4*x2)(floor(x1.value), floor(x2.value))}, at x1 = {floor(x1.value)}, x2 = {floor(x2.value)}\")\n",
    "\n",
    "print()\n",
    "\n",
    "x1 = cp.Variable(name=\"x1\")\n",
    "x2 = cp.Variable(name=\"x2\")\n",
    "Z = 5*x1 + 4*x2\n",
    "constraints = [\n",
    "    3*x1 + 4*x2 <= 10,\n",
    "    x1 >= 4,\n",
    "    x2 >= 0\n",
    "]\n",
    "\n",
    "problem = cp.Problem(cp.Maximize(Z), constraints)\n",
    "print(problem)\n",
    "print(f\"Upper bound is {problem.solve():.2f}, at x1 = {x1.value}, x2 = {x2.value}\")\n",
    "print(f\"Lower bound is {(lambda x1, x2: 5*x1 + 4*x2)(floor(x1.value), floor(x2.value))}, at x1 = {floor(x1.value)}, x2 = {floor(x2.value)}\")"
   ]
  },
  {
   "cell_type": "markdown",
   "metadata": {},
   "source": [
    "A tailor makes wool tweed sport coats and wool slacks. He is able to get a shipment of 150 squareyards of wool cloth from Scotland each month to make coats and slacks, and he has 200 hours ofhis own labor to make them each month. A coat requires 3 square yards of wool and 10 hours tomake, and  a  pair  of pants  requires  5  square  yards  of wool  and  4  hours  to  make. He  earns  $\\$50  $ in profit from each coat he makes and $\\$40$ from each pair of slacks. He wants to know how many coats and slacks to produce to maximize profit."
   ]
  },
  {
   "cell_type": "code",
   "execution_count": 61,
   "metadata": {},
   "outputs": [
    {
     "name": "stdout",
     "output_type": "stream",
     "text": [
      "maximize 50 * coats + 4 * slacks\n",
      "subject to 3 * coats + 5 * slacks <= 150\n",
      "           10 * coats + 4 * slacks <= 200\n",
      "           0 <= coats\n",
      "           0 <= slacks\n",
      "Upper bound is 1000.00, at x1 = 19.99999990756063, x2 = 9.988043366440556e-08\n",
      "Lower bound is 950, at x1 = 19, x2 = 0\n"
     ]
    }
   ],
   "source": [
    "import cvxpy as cp\n",
    "\n",
    "coats = cp.Variable(name=\"coats\")\n",
    "slacks = cp.Variable(name=\"slacks\")\n",
    "\n",
    "Z = 50*coats + 4*slacks\n",
    "\n",
    "constraints = [\n",
    "    coats*3 + slacks*5 <= 150,\n",
    "    coats*10 + slacks*4 <= 200,\n",
    "    coats >= 0,\n",
    "    slacks >= 0\n",
    "]\n",
    "\n",
    "problem = cp.Problem(cp.Maximize(Z), constraints)\n",
    "print(problem)\n",
    "print(f\"Upper bound is {problem.solve():.2f}, at x1 = {coats.value}, x2 = {slacks.value}\")\n",
    "print(f\"Lower bound is {(lambda coats, slacks: 50*coats + 4*slacks)(floor(coats.value), floor(slacks.value))}, at x1 = {floor(coats.value)}, x2 = {floor(slacks.value)}\")"
   ]
  },
  {
   "cell_type": "code",
   "execution_count": 66,
   "metadata": {},
   "outputs": [
    {
     "name": "stdout",
     "output_type": "stream",
     "text": [
      "maximize 50 * coats + 4 * slacks\n",
      "subject to 3 * coats + 5 * slacks <= 150\n",
      "           10 * coats + 4 * slacks <= 200\n",
      "           19 <= coats\n",
      "           0 <= slacks\n",
      "Upper bound is 1000.00, at x1 = 20.0000000049205, x2 = 4.463349601028901e-09\n",
      "Lower bound is 1000, at x1 = 20, x2 = 0\n",
      "maximize 50 * coats + 4 * slacks\n",
      "subject to 3 * coats + 5 * slacks <= 150\n",
      "           10 * coats + 4 * slacks <= 200\n",
      "           coats <= 18\n",
      "           0 <= slacks\n",
      "Upper bound is 920.00, at x1 = 18.00000002478257, x2 = 4.999999905349983\n",
      "Lower bound is 916, at x1 = 18, x2 = 4\n"
     ]
    }
   ],
   "source": [
    "import cvxpy as cp\n",
    "\n",
    "coats = cp.Variable(name=\"coats\")\n",
    "slacks = cp.Variable(name=\"slacks\")\n",
    "\n",
    "Z = 50*coats + 4*slacks\n",
    "\n",
    "constraints = [\n",
    "    coats*3 + slacks*5 <= 150,\n",
    "    coats*10 + slacks*4 <= 200,\n",
    "    coats >= 19,\n",
    "    slacks >= 0\n",
    "]\n",
    "\n",
    "problem = cp.Problem(cp.Maximize(Z), constraints)\n",
    "print(problem)\n",
    "print(f\"Upper bound is {problem.solve():.2f}, at x1 = {coats.value}, x2 = {slacks.value}\")\n",
    "print(f\"Lower bound is {(lambda coats, slacks: 50*coats + 4*slacks)(floor(coats.value), floor(slacks.value))}, at x1 = {floor(coats.value)}, x2 = {floor(slacks.value)}\")\n",
    "\n",
    "\n",
    "import cvxpy as cp\n",
    "\n",
    "coats = cp.Variable(name=\"coats\")\n",
    "slacks = cp.Variable(name=\"slacks\")\n",
    "\n",
    "Z = 50*coats + 4*slacks\n",
    "\n",
    "constraints = [\n",
    "    coats*3 + slacks*5 <= 150,\n",
    "    coats*10 + slacks*4 <= 200,\n",
    "    coats <= 18,\n",
    "    slacks >= 0\n",
    "]\n",
    "\n",
    "problem = cp.Problem(cp.Maximize(Z), constraints)\n",
    "print(problem)\n",
    "print(f\"Upper bound is {problem.solve():.2f}, at x1 = {coats.value}, x2 = {slacks.value}\")\n",
    "print(f\"Lower bound is {(lambda coats, slacks: 50*coats + 4*slacks)(floor(coats.value), floor(slacks.value))}, at x1 = {floor(coats.value)}, x2 = {floor(slacks.value)}\")"
   ]
  }
 ],
 "metadata": {
  "kernelspec": {
   "display_name": "Python 3",
   "language": "python",
   "name": "python3"
  },
  "language_info": {
   "codemirror_mode": {
    "name": "ipython",
    "version": 3
   },
   "file_extension": ".py",
   "mimetype": "text/x-python",
   "name": "python",
   "nbconvert_exporter": "python",
   "pygments_lexer": "ipython3",
   "version": "3.6.8"
  }
 },
 "nbformat": 4,
 "nbformat_minor": 2
}
