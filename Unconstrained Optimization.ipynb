{
 "cells": [
  {
   "cell_type": "markdown",
   "metadata": {},
   "source": [
    "## Unconstrained Optimization"
   ]
  },
  {
   "cell_type": "code",
   "execution_count": 27,
   "metadata": {},
   "outputs": [
    {
     "name": "stdout",
     "output_type": "stream",
     "text": [
      "Optimization terminated successfully.\n",
      "         Current function value: 0.933333\n",
      "         Iterations: 6\n",
      "         Function evaluations: 28\n",
      "         Gradient evaluations: 7\n",
      "      fun: 0.9333333333333353\n",
      " hess_inv: array([[ 0.13333187, -0.33331821],\n",
      "       [-0.33331821,  1.33304488]])\n",
      "      jac: array([3.57627869e-07, 0.00000000e+00])\n",
      "  message: 'Optimization terminated successfully.'\n",
      "     nfev: 28\n",
      "      nit: 6\n",
      "     njev: 7\n",
      "   status: 0\n",
      "  success: True\n",
      "        x: array([-0.13333333,  3.33333336])\n"
     ]
    },
    {
     "name": "stderr",
     "output_type": "stream",
     "text": [
      "/Users/jacob/miniconda3/lib/python3.6/site-packages/ipykernel_launcher.py:12: OptimizeWarning: Unknown solver options: xtol\n",
      "  if sys.path[0] == '':\n"
     ]
    }
   ],
   "source": [
    "import numpy as np\n",
    "from scipy.optimize import minimize\n",
    "\n",
    "Q = np.array([[20, 5],[5, 2]])\n",
    "c = np.array([[14],[6]])\n",
    "\n",
    "def f(x):\n",
    "    return np.dot(0.5*np.transpose(x),np.dot(Q,x)) - np.dot(np.transpose(c),x) + 10\n",
    "\n",
    "x0 = np.array([1,1])\n",
    "\n",
    "res = minimize(f, x0, method='BFGS', options={'xtol': 1e-8, 'disp': True})\n",
    "\n",
    "print(res)"
   ]
  }
 ],
 "metadata": {
  "kernelspec": {
   "display_name": "Python 3",
   "language": "python",
   "name": "python3"
  },
  "language_info": {
   "codemirror_mode": {
    "name": "ipython",
    "version": 3
   },
   "file_extension": ".py",
   "mimetype": "text/x-python",
   "name": "python",
   "nbconvert_exporter": "python",
   "pygments_lexer": "ipython3",
   "version": "3.6.8"
  }
 },
 "nbformat": 4,
 "nbformat_minor": 2
}
